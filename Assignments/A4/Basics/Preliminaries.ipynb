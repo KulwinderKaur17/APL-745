{
 "cells": [
  {
   "attachments": {},
   "cell_type": "markdown",
   "metadata": {},
   "source": [
    "# Imports"
   ]
  },
  {
   "cell_type": "code",
   "execution_count": 1,
   "metadata": {},
   "outputs": [],
   "source": [
    "import numpy as np"
   ]
  },
  {
   "attachments": {},
   "cell_type": "markdown",
   "metadata": {},
   "source": [
    "# Numpy NDArray"
   ]
  },
  {
   "attachments": {},
   "cell_type": "markdown",
   "metadata": {},
   "source": [
    "`numpy.ndarray` is the fundamental data structure of numpy. It is a multidimensional array of elements of the same type. It is a generic multidimensional container for homogeneous data. It is a table of elements (usually numbers), all of the same type, indexed by a tuple of positive integers. In numpy dimensions are called axes. The number of axes is rank. The shape of an array is a tuple of integers giving the size of the array along each axis."
   ]
  },
  {
   "cell_type": "code",
   "execution_count": 2,
   "metadata": {},
   "outputs": [
    {
     "name": "stdout",
     "output_type": "stream",
     "text": [
      "[1 2 3 4 5]\n"
     ]
    }
   ],
   "source": [
    "arr = np.array([1, 2, 3, 4, 5])\n",
    "print(arr)"
   ]
  },
  {
   "attachments": {},
   "cell_type": "markdown",
   "metadata": {},
   "source": [
    "## Axes"
   ]
  },
  {
   "attachments": {},
   "cell_type": "markdown",
   "metadata": {},
   "source": [
    "In numpy, axes are ordered from 0 to n-1. The first axis is the first dimension of the array, the second axis is the second dimension, and so on."
   ]
  },
  {
   "cell_type": "code",
   "execution_count": 4,
   "metadata": {},
   "outputs": [
    {
     "data": {
      "text/plain": [
       "array([[[4, 7, 0, 6, 8],\n",
       "        [2, 3, 9, 1, 6],\n",
       "        [7, 3, 8, 1, 3],\n",
       "        [3, 8, 4, 9, 1]],\n",
       "\n",
       "       [[3, 0, 2, 7, 9],\n",
       "        [7, 9, 6, 3, 7],\n",
       "        [7, 9, 8, 6, 6],\n",
       "        [4, 8, 1, 7, 6]],\n",
       "\n",
       "       [[9, 0, 8, 0, 7],\n",
       "        [6, 1, 7, 3, 2],\n",
       "        [0, 7, 4, 4, 7],\n",
       "        [1, 0, 5, 5, 1]]])"
      ]
     },
     "execution_count": 4,
     "metadata": {},
     "output_type": "execute_result"
    }
   ],
   "source": [
    "three_d_array = np.random.randint(0, 10, (3, 4, 5))\n",
    "three_d_array"
   ]
  },
  {
   "attachments": {},
   "cell_type": "markdown",
   "metadata": {},
   "source": [
    "Let's see the different axes of a 3D array:"
   ]
  },
  {
   "cell_type": "code",
   "execution_count": 10,
   "metadata": {},
   "outputs": [
    {
     "data": {
      "text/plain": [
       "(array([[4, 7, 0, 6, 8],\n",
       "        [2, 3, 9, 1, 6],\n",
       "        [7, 3, 8, 1, 3],\n",
       "        [3, 8, 4, 9, 1]]),\n",
       " (4, 5))"
      ]
     },
     "execution_count": 10,
     "metadata": {},
     "output_type": "execute_result"
    }
   ],
   "source": [
    "three_d_array[0, :, :], three_d_array[0, :, :].shape"
   ]
  },
  {
   "cell_type": "code",
   "execution_count": 11,
   "metadata": {},
   "outputs": [
    {
     "data": {
      "text/plain": [
       "(array([[4, 7, 0, 6, 8],\n",
       "        [3, 0, 2, 7, 9],\n",
       "        [9, 0, 8, 0, 7]]),\n",
       " (3, 5))"
      ]
     },
     "execution_count": 11,
     "metadata": {},
     "output_type": "execute_result"
    }
   ],
   "source": [
    "three_d_array[:, 0, :], three_d_array[:, 0, :].shape"
   ]
  },
  {
   "cell_type": "code",
   "execution_count": 12,
   "metadata": {},
   "outputs": [
    {
     "data": {
      "text/plain": [
       "(array([[4, 2, 7, 3],\n",
       "        [3, 7, 7, 4],\n",
       "        [9, 6, 0, 1]]),\n",
       " (3, 4))"
      ]
     },
     "execution_count": 12,
     "metadata": {},
     "output_type": "execute_result"
    }
   ],
   "source": [
    "three_d_array[:, :, 0], three_d_array[:, :, 0].shape"
   ]
  },
  {
   "attachments": {},
   "cell_type": "markdown",
   "metadata": {},
   "source": [
    "This is easier to understand in 2D:"
   ]
  },
  {
   "cell_type": "code",
   "execution_count": 13,
   "metadata": {},
   "outputs": [
    {
     "data": {
      "text/plain": [
       "array([[6, 8, 6, 2],\n",
       "       [9, 8, 3, 9],\n",
       "       [2, 6, 7, 1]])"
      ]
     },
     "execution_count": 13,
     "metadata": {},
     "output_type": "execute_result"
    }
   ],
   "source": [
    "two_d_array = np.random.randint(0, 10, (3, 4))\n",
    "two_d_array"
   ]
  },
  {
   "cell_type": "code",
   "execution_count": 14,
   "metadata": {},
   "outputs": [
    {
     "data": {
      "text/plain": [
       "(array([6, 8, 6, 2]), (4,))"
      ]
     },
     "execution_count": 14,
     "metadata": {},
     "output_type": "execute_result"
    }
   ],
   "source": [
    "two_d_array[0, :], two_d_array[0, :].shape"
   ]
  },
  {
   "cell_type": "code",
   "execution_count": 15,
   "metadata": {},
   "outputs": [
    {
     "data": {
      "text/plain": [
       "(array([6, 9, 2]), (3,))"
      ]
     },
     "execution_count": 15,
     "metadata": {},
     "output_type": "execute_result"
    }
   ],
   "source": [
    "two_d_array[:, 0], two_d_array[:, 0].shape"
   ]
  },
  {
   "attachments": {},
   "cell_type": "markdown",
   "metadata": {},
   "source": [
    "So, the first axis is the row axis and the second axis is the column axis."
   ]
  },
  {
   "cell_type": "code",
   "execution_count": 16,
   "metadata": {},
   "outputs": [
    {
     "data": {
      "text/plain": [
       "array([17, 22, 16, 12])"
      ]
     },
     "execution_count": 16,
     "metadata": {},
     "output_type": "execute_result"
    }
   ],
   "source": [
    "np.sum(two_d_array, axis=0)"
   ]
  },
  {
   "attachments": {},
   "cell_type": "markdown",
   "metadata": {},
   "source": [
    "It seems that sum along the zeroth axis sums along columns and sum along the first axis sums along rows."
   ]
  },
  {
   "cell_type": "code",
   "execution_count": 17,
   "metadata": {},
   "outputs": [
    {
     "data": {
      "text/plain": [
       "array([22, 29, 16])"
      ]
     },
     "execution_count": 17,
     "metadata": {},
     "output_type": "execute_result"
    }
   ],
   "source": [
    "np.sum(two_d_array, axis=1)"
   ]
  },
  {
   "attachments": {},
   "cell_type": "markdown",
   "metadata": {},
   "source": [
    "## Shape"
   ]
  },
  {
   "attachments": {},
   "cell_type": "markdown",
   "metadata": {},
   "source": [
    "Next, we will see the shape of a 3D array:"
   ]
  },
  {
   "cell_type": "code",
   "execution_count": 20,
   "metadata": {},
   "outputs": [
    {
     "data": {
      "text/plain": [
       "array([[[6, 1, 6, 0, 7],\n",
       "        [8, 3, 4, 3, 1],\n",
       "        [1, 5, 2, 7, 6],\n",
       "        [5, 8, 0, 2, 4]],\n",
       "\n",
       "       [[4, 4, 5, 2, 2],\n",
       "        [0, 4, 7, 8, 7],\n",
       "        [1, 9, 7, 0, 9],\n",
       "        [0, 1, 3, 5, 9]],\n",
       "\n",
       "       [[3, 0, 2, 1, 4],\n",
       "        [0, 8, 5, 7, 1],\n",
       "        [0, 0, 7, 4, 3],\n",
       "        [6, 6, 6, 5, 3]]])"
      ]
     },
     "execution_count": 20,
     "metadata": {},
     "output_type": "execute_result"
    }
   ],
   "source": [
    "three_d_array = np.random.randint(0, 10, (3, 4, 5))\n",
    "three_d_array"
   ]
  },
  {
   "attachments": {},
   "cell_type": "markdown",
   "metadata": {},
   "source": [
    "Again, it is easier to understand in 2D:"
   ]
  },
  {
   "cell_type": "code",
   "execution_count": 21,
   "metadata": {},
   "outputs": [
    {
     "data": {
      "text/plain": [
       "array([[4, 2, 9, 6],\n",
       "       [0, 2, 2, 5],\n",
       "       [6, 7, 9, 3]])"
      ]
     },
     "execution_count": 21,
     "metadata": {},
     "output_type": "execute_result"
    }
   ],
   "source": [
    "two_d_array = np.random.randint(0, 10, (3, 4))\n",
    "two_d_array"
   ]
  },
  {
   "attachments": {},
   "cell_type": "markdown",
   "metadata": {},
   "source": [
    "So, the first element of the shape is the number of rows and the second element of the shape is the number of columns."
   ]
  },
  {
   "attachments": {},
   "cell_type": "markdown",
   "metadata": {},
   "source": [
    "## Broadcasting"
   ]
  },
  {
   "attachments": {},
   "cell_type": "markdown",
   "metadata": {},
   "source": [
    "Broadcasting is a mechanism that allows numpy to work with arrays of different shapes when performing arithmetic operations. Subject to certain constraints, the smaller array is “broadcast” across the larger array so that they have compatible shapes. Broadcasting provides a means of vectorizing array operations so that looping occurs in C instead of Python. It does this without making needless copies of data and usually leads to efficient algorithm implementations."
   ]
  },
  {
   "attachments": {},
   "cell_type": "markdown",
   "metadata": {},
   "source": [
    "There are, however, cases where broadcasting is a bad idea because it leads to inefficient use of memory that slows computation.\n",
    "\n",
    "NumPy operations are usually done on pairs of arrays on an element-by-element basis. In the simplest case, the two arrays must have exactly the same shape, as in the following example:"
   ]
  },
  {
   "cell_type": "code",
   "execution_count": 23,
   "metadata": {},
   "outputs": [
    {
     "data": {
      "text/plain": [
       "array([2., 4., 6.])"
      ]
     },
     "execution_count": 23,
     "metadata": {},
     "output_type": "execute_result"
    }
   ],
   "source": [
    "a = np.array([1.0, 2.0, 3.0])\n",
    "b = np.array([2.0, 2.0, 2.0])\n",
    "a * b"
   ]
  },
  {
   "attachments": {},
   "cell_type": "markdown",
   "metadata": {},
   "source": [
    "NumPy’s broadcasting rule relaxes this constraint when the arrays’ shapes meet certain constraints. The simplest broadcasting example occurs when an array and a scalar value are combined in an operation:\n",
    "\n"
   ]
  },
  {
   "cell_type": "code",
   "execution_count": 24,
   "metadata": {},
   "outputs": [
    {
     "data": {
      "text/plain": [
       "array([2., 4., 6.])"
      ]
     },
     "execution_count": 24,
     "metadata": {},
     "output_type": "execute_result"
    }
   ],
   "source": [
    "a = np.array([1.0, 2.0, 3.0])\n",
    "b = 2.0\n",
    "a * b"
   ]
  },
  {
   "attachments": {},
   "cell_type": "markdown",
   "metadata": {},
   "source": [
    "The result is equivalent to the previous example where `b` was an array. We can think of the scalar `b` being stretched during the arithmetic operation into an array with the same shape as `a`."
   ]
  },
  {
   "attachments": {},
   "cell_type": "markdown",
   "metadata": {},
   "source": [
    "![](https://numpy.org/doc/stable/_images/broadcasting_1.png)"
   ]
  },
  {
   "attachments": {},
   "cell_type": "markdown",
   "metadata": {},
   "source": [
    "### General Broadcasting Rules"
   ]
  },
  {
   "attachments": {},
   "cell_type": "markdown",
   "metadata": {},
   "source": [
    "When operating on two arrays, NumPy compares their shapes element-wise. It starts with the trailing (i.e. rightmost) dimension and works its way left. Two dimensions are compatible when\n",
    "\n",
    "1. they are equal, or\n",
    "2. one of them is 1"
   ]
  },
  {
   "attachments": {},
   "cell_type": "markdown",
   "metadata": {},
   "source": [
    "For example, if you have a `256x256x3` array of RGB values, and you want to scale each color in the image by a different value, you can multiply the image by a one-dimensional array with 3 values. Lining up the sizes of the trailing axes of these arrays according to the broadcast rules, shows that they are compatible.\n",
    "\n",
    " Note that missing dimensions are assumed to have size one."
   ]
  },
  {
   "cell_type": "code",
   "execution_count": 36,
   "metadata": {},
   "outputs": [
    {
     "data": {
      "text/plain": [
       "array([[[236,  61,  67],\n",
       "        [173,  16, 255],\n",
       "        [ 57, 119, 112],\n",
       "        [ 22, 139,  59]],\n",
       "\n",
       "       [[  8, 182, 210],\n",
       "        [201, 177,  20],\n",
       "        [112,  88, 237],\n",
       "        [118, 119, 138]],\n",
       "\n",
       "       [[ 17,  54,  14],\n",
       "        [124,  72, 179],\n",
       "        [167,  25, 132],\n",
       "        [  3, 165,   5]],\n",
       "\n",
       "       [[ 45,  20,   3],\n",
       "        [155, 168,  64],\n",
       "        [ 98, 204, 178],\n",
       "        [249,  41, 176]]])"
      ]
     },
     "metadata": {},
     "output_type": "display_data"
    },
    {
     "data": {
      "text/plain": [
       "array([1. , 0.5, 0. ])"
      ]
     },
     "metadata": {},
     "output_type": "display_data"
    },
    {
     "data": {
      "text/plain": [
       "(4, 4, 3)"
      ]
     },
     "metadata": {},
     "output_type": "display_data"
    },
    {
     "data": {
      "text/plain": [
       "(3,)"
      ]
     },
     "metadata": {},
     "output_type": "display_data"
    },
    {
     "data": {
      "text/plain": [
       "(4, 4, 3)"
      ]
     },
     "execution_count": 36,
     "metadata": {},
     "output_type": "execute_result"
    }
   ],
   "source": [
    "image = np.random.randint(0, 256, (4, 4, 3))\n",
    "scale = np.array([1, 0.5,0])\n",
    "display(image)\n",
    "display(scale)\n",
    "display(image.shape, scale.shape)\n",
    "gray_image = image*scale\n",
    "# gray_image\n",
    "gray_image.shape"
   ]
  },
  {
   "attachments": {},
   "cell_type": "markdown",
   "metadata": {},
   "source": [
    "In the above problem, the shape `(3,)` is treated as `(1,3)`. We can see this:"
   ]
  },
  {
   "cell_type": "code",
   "execution_count": 38,
   "metadata": {},
   "outputs": [
    {
     "data": {
      "text/plain": [
       "(4, 4, 3)"
      ]
     },
     "metadata": {},
     "output_type": "display_data"
    },
    {
     "data": {
      "text/plain": [
       "(1, 3)"
      ]
     },
     "metadata": {},
     "output_type": "display_data"
    },
    {
     "data": {
      "text/plain": [
       "(4, 4, 3)"
      ]
     },
     "execution_count": 38,
     "metadata": {},
     "output_type": "execute_result"
    }
   ],
   "source": [
    "image = np.random.randint(0, 256, (4, 4, 3))\n",
    "scale = np.array([[1, 0.5,0]])\n",
    "display(image.shape, scale.shape)\n",
    "gray_image = image*scale\n",
    "gray_image.shape"
   ]
  },
  {
   "cell_type": "code",
   "execution_count": 41,
   "metadata": {},
   "outputs": [
    {
     "data": {
      "text/plain": [
       "(4, 4, 3)"
      ]
     },
     "metadata": {},
     "output_type": "display_data"
    },
    {
     "data": {
      "text/plain": [
       "(3, 1)"
      ]
     },
     "metadata": {},
     "output_type": "display_data"
    },
    {
     "name": "stdout",
     "output_type": "stream",
     "text": [
      "Error Raised:\n",
      "operands could not be broadcast together with shapes (4,4,3) (3,1) \n"
     ]
    }
   ],
   "source": [
    "image = np.random.randint(0, 256, (4, 4, 3))\n",
    "scale = np.array([[1], [0.5], [0]])\n",
    "display(image.shape, scale.shape)\n",
    "try:\n",
    "    gray_image = image*scale\n",
    "    gray_image.shape\n",
    "except Exception as e:\n",
    "    print(\"Error Raised:\")\n",
    "    print(e)"
   ]
  },
  {
   "attachments": {},
   "cell_type": "markdown",
   "metadata": {},
   "source": [
    "We see that the shape is not `(3,1)` as that will give an error."
   ]
  },
  {
   "attachments": {},
   "cell_type": "markdown",
   "metadata": {},
   "source": [
    "When either of the dimensions compared is one, the other is used. In other words, dimensions with size 1 are stretched or “copied” to match the other."
   ]
  },
  {
   "attachments": {},
   "cell_type": "markdown",
   "metadata": {},
   "source": [
    "Another example is:\n",
    "```python\n",
    "A      (4d array):  8 x 1 x 6 x 1\n",
    "B      (3d array):      7 x 1 x 5\n",
    "Result (4d array):  8 x 7 x 6 x 5\n",
    "```"
   ]
  },
  {
   "attachments": {},
   "cell_type": "markdown",
   "metadata": {},
   "source": [
    "A more involved example is:"
   ]
  },
  {
   "attachments": {},
   "cell_type": "markdown",
   "metadata": {},
   "source": [
    "<p>If <code class=\"docutils literal notranslate\"><span class=\"pre\">a.shape</span></code> is (5,1), <code class=\"docutils literal notranslate\"><span class=\"pre\">b.shape</span></code> is (1,6), <code class=\"docutils literal notranslate\"><span class=\"pre\">c.shape</span></code> is (6,)\n",
    "and <code class=\"docutils literal notranslate\"><span class=\"pre\">d.shape</span></code> is () so that <em>d</em> is a scalar, then <em>a</em>, <em>b</em>, <em>c</em>,\n",
    "and <em>d</em> are all broadcastable to dimension (5,6); and</p>"
   ]
  },
  {
   "attachments": {},
   "cell_type": "markdown",
   "metadata": {},
   "source": [
    "<ul class=\"simple\">\n",
    "<li><p><em>a</em> acts like a (5,6) array where <code class=\"docutils literal notranslate\"><span class=\"pre\">a[:,0]</span></code> is broadcast to the other\n",
    "columns,</p></li>\n",
    "<li><p><em>b</em> acts like a (5,6) array where <code class=\"docutils literal notranslate\"><span class=\"pre\">b[0,:]</span></code> is broadcast\n",
    "to the other rows,</p></li>\n",
    "<li><p><em>c</em> acts like a (1,6) array and therefore like a (5,6) array\n",
    "where <code class=\"docutils literal notranslate\"><span class=\"pre\">c[:]</span></code> is broadcast to every row, and finally,</p></li>\n",
    "<li><p><em>d</em> acts like a (5,6) array where the single value is repeated.</p></li>\n",
    "</ul>"
   ]
  },
  {
   "attachments": {},
   "cell_type": "markdown",
   "metadata": {},
   "source": [
    "Here are some more examples:\n",
    "\n",
    "```python\n",
    "A      (2d array):  5 x 4\n",
    "B      (1d array):      1\n",
    "Result (2d array):  5 x 4\n",
    "\n",
    "A      (2d array):  5 x 4\n",
    "B      (1d array):      4\n",
    "Result (2d array):  5 x 4\n",
    "\n",
    "A      (3d array):  15 x 3 x 5\n",
    "B      (3d array):  15 x 1 x 5\n",
    "Result (3d array):  15 x 3 x 5\n",
    "\n",
    "A      (3d array):  15 x 3 x 5\n",
    "B      (2d array):       3 x 5\n",
    "Result (3d array):  15 x 3 x 5\n",
    "\n",
    "A      (3d array):  15 x 3 x 5\n",
    "B      (2d array):       3 x 1\n",
    "Result (3d array):  15 x 3 x 5\n",
    "```"
   ]
  },
  {
   "attachments": {},
   "cell_type": "markdown",
   "metadata": {},
   "source": [
    "Here are examples of shapes that do not broadcast:\n",
    "\n",
    "```python\n",
    "A      (1d array):  3\n",
    "B      (1d array):  4 # trailing dimensions do not match\n",
    "\n",
    "A      (2d array):      2 x 1\n",
    "B      (3d array):  8 x 4 x 3 # second from last dimensions mismatched\n",
    "```"
   ]
  },
  {
   "attachments": {},
   "cell_type": "markdown",
   "metadata": {},
   "source": [
    "![](https://numpy.org/doc/stable/_images/broadcasting_2.png)"
   ]
  },
  {
   "attachments": {},
   "cell_type": "markdown",
   "metadata": {},
   "source": [
    "A one dimensional array added to a two dimensional array results in broadcasting if number of 1-d array elements matches the number of 2-d array columns."
   ]
  },
  {
   "attachments": {},
   "cell_type": "markdown",
   "metadata": {},
   "source": [
    "![](https://numpy.org/doc/stable/_images/broadcasting_3.png)"
   ]
  },
  {
   "attachments": {},
   "cell_type": "markdown",
   "metadata": {},
   "source": [
    "When the trailing dimensions of the arrays are unequal, broadcasting fails because it is impossible to align the values in the rows of the 1st array with the elements of the 2nd arrays for element-by-element addition."
   ]
  },
  {
   "attachments": {},
   "cell_type": "markdown",
   "metadata": {},
   "source": [
    "![](https://numpy.org/doc/stable/_images/broadcasting_4.png)"
   ]
  },
  {
   "attachments": {},
   "cell_type": "markdown",
   "metadata": {},
   "source": [
    "In some cases, broadcasting stretches both arrays to form an output array larger than either of the initial arrays.\n",
    "\n"
   ]
  },
  {
   "attachments": {},
   "cell_type": "markdown",
   "metadata": {},
   "source": [
    "Broadcasting provides a convenient way of taking the outer product (or any other outer operation) of two arrays. The following example shows an outer addition operation of two 1-d arrays:"
   ]
  },
  {
   "cell_type": "code",
   "execution_count": 45,
   "metadata": {},
   "outputs": [
    {
     "data": {
      "text/plain": [
       "array([[ 1.,  2.,  3.],\n",
       "       [11., 12., 13.],\n",
       "       [21., 22., 23.],\n",
       "       [31., 32., 33.]])"
      ]
     },
     "execution_count": 45,
     "metadata": {},
     "output_type": "execute_result"
    }
   ],
   "source": [
    "a = np.array([0.0, 10.0, 20.0, 30.0])\n",
    "b = np.array([1.0, 2.0, 3.0])\n",
    "a[:, np.newaxis] + b"
   ]
  },
  {
   "attachments": {},
   "cell_type": "markdown",
   "metadata": {},
   "source": [
    "<p>Here the <code class=\"docutils literal notranslate\"><span class=\"pre\">newaxis</span></code> index operator inserts a new axis into <code class=\"docutils literal notranslate\"><span class=\"pre\">a</span></code>,\n",
    "making it a two-dimensional <code class=\"docutils literal notranslate\"><span class=\"pre\">4x1</span></code> array.  Combining the <code class=\"docutils literal notranslate\"><span class=\"pre\">4x1</span></code> array\n",
    "with <code class=\"docutils literal notranslate\"><span class=\"pre\">b</span></code>, which has shape <code class=\"docutils literal notranslate\"><span class=\"pre\">(3,)</span></code>, yields a <code class=\"docutils literal notranslate\"><span class=\"pre\">4x3</span></code> array.</p>"
   ]
  },
  {
   "cell_type": "code",
   "execution_count": 43,
   "metadata": {},
   "outputs": [
    {
     "data": {
      "text/plain": [
       "((4,), (4, 1), (3,))"
      ]
     },
     "execution_count": 43,
     "metadata": {},
     "output_type": "execute_result"
    }
   ],
   "source": [
    "a.shape, a[:, np.newaxis].shape, b.shape"
   ]
  },
  {
   "cell_type": "code",
   "execution_count": 1,
   "metadata": {},
   "outputs": [],
   "source": [
    "import numpy as np"
   ]
  },
  {
   "cell_type": "code",
   "execution_count": 2,
   "metadata": {},
   "outputs": [],
   "source": [
    "arr1 = np.random.randint(0, 100, (8,5,4,1))"
   ]
  },
  {
   "cell_type": "code",
   "execution_count": 5,
   "metadata": {},
   "outputs": [
    {
     "data": {
      "text/plain": [
       "(8, 5, 4, 1)"
      ]
     },
     "execution_count": 5,
     "metadata": {},
     "output_type": "execute_result"
    }
   ],
   "source": [
    "arr1.shape"
   ]
  },
  {
   "cell_type": "code",
   "execution_count": 8,
   "metadata": {},
   "outputs": [
    {
     "data": {
      "text/plain": [
       "(5,)"
      ]
     },
     "execution_count": 8,
     "metadata": {},
     "output_type": "execute_result"
    }
   ],
   "source": [
    "arr2 = np.array([1,2,3,4,5])\n",
    "arr2.shape"
   ]
  },
  {
   "cell_type": "code",
   "execution_count": 7,
   "metadata": {},
   "outputs": [
    {
     "data": {
      "text/plain": [
       "(8, 5, 4, 5)"
      ]
     },
     "execution_count": 7,
     "metadata": {},
     "output_type": "execute_result"
    }
   ],
   "source": [
    "arr = arr1+arr2\n",
    "arr.shape"
   ]
  },
  {
   "cell_type": "code",
   "execution_count": 9,
   "metadata": {},
   "outputs": [],
   "source": [
    "arr3 = np.random.randint(0, 100, (4,6))"
   ]
  },
  {
   "cell_type": "code",
   "execution_count": 10,
   "metadata": {},
   "outputs": [
    {
     "data": {
      "text/plain": [
       "(8, 5, 4, 6)"
      ]
     },
     "execution_count": 10,
     "metadata": {},
     "output_type": "execute_result"
    }
   ],
   "source": [
    "(arr1+arr3).shape"
   ]
  },
  {
   "cell_type": "code",
   "execution_count": 11,
   "metadata": {},
   "outputs": [
    {
     "data": {
      "text/plain": [
       "(8, 5, 4, 6)"
      ]
     },
     "execution_count": 11,
     "metadata": {},
     "output_type": "execute_result"
    }
   ],
   "source": [
    "(arr1*arr3).shape"
   ]
  },
  {
   "cell_type": "code",
   "execution_count": 14,
   "metadata": {},
   "outputs": [
    {
     "data": {
      "text/plain": [
       "(3, 3, 3, 3)"
      ]
     },
     "execution_count": 14,
     "metadata": {},
     "output_type": "execute_result"
    }
   ],
   "source": [
    "a=np.random.randint(0, 100, (3,3,3))\n",
    "b=np.random.randint(0, 100, (3,3,3))\n",
    "np.dot(a,b).shape"
   ]
  },
  {
   "cell_type": "code",
   "execution_count": 16,
   "metadata": {},
   "outputs": [
    {
     "data": {
      "text/plain": [
       "array([[[87, 47, 78],\n",
       "        [16, 11, 40],\n",
       "        [62, 59, 62]],\n",
       "\n",
       "       [[29, 83,  8],\n",
       "        [93, 74,  0],\n",
       "        [38, 51, 86]],\n",
       "\n",
       "       [[65, 77, 67],\n",
       "        [89, 30, 73],\n",
       "        [ 1, 32, 20]]])"
      ]
     },
     "execution_count": 16,
     "metadata": {},
     "output_type": "execute_result"
    }
   ],
   "source": [
    "a"
   ]
  },
  {
   "cell_type": "code",
   "execution_count": 17,
   "metadata": {},
   "outputs": [
    {
     "data": {
      "text/plain": [
       "array([[[22, 60,  4],\n",
       "        [85, 55, 54],\n",
       "        [79, 49,  8]],\n",
       "\n",
       "       [[73, 62, 70],\n",
       "        [29, 89, 37],\n",
       "        [10, 77, 35]],\n",
       "\n",
       "       [[97, 96, 78],\n",
       "        [38, 24, 99],\n",
       "        [40, 55,  8]]])"
      ]
     },
     "execution_count": 17,
     "metadata": {},
     "output_type": "execute_result"
    }
   ],
   "source": [
    "b"
   ]
  },
  {
   "cell_type": "code",
   "execution_count": 18,
   "metadata": {},
   "outputs": [
    {
     "data": {
      "text/plain": [
       "array([[[[12071, 11627,  3510],\n",
       "         [ 8494, 15583, 10559],\n",
       "         [13345, 13770, 12063]],\n",
       "\n",
       "        [[ 4447,  3525,   978],\n",
       "         [ 1887,  5051,  2927],\n",
       "         [ 3570,  4000,  2657]],\n",
       "\n",
       "        [[11277, 10003,  3930],\n",
       "         [ 6857, 13869,  8693],\n",
       "         [10736, 10778, 11173]]],\n",
       "\n",
       "\n",
       "       [[[ 8325,  6697,  4662],\n",
       "         [ 4604,  9801,  5381],\n",
       "         [ 6287,  5216, 10543]],\n",
       "\n",
       "        [[ 8336,  9650,  4368],\n",
       "         [ 8935, 12352,  9248],\n",
       "         [11833, 10704, 14580]],\n",
       "\n",
       "        [[11965,  9299,  3594],\n",
       "         [ 5113, 13517,  7557],\n",
       "         [ 9064,  9602,  8701]]],\n",
       "\n",
       "\n",
       "       [[[13268, 11418,  4954],\n",
       "         [ 7648, 16042,  9744],\n",
       "         [11911, 11773, 13229]],\n",
       "\n",
       "        [[10275, 10567,  2560],\n",
       "         [ 8097, 13809,  9895],\n",
       "         [12693, 13279, 10496]],\n",
       "\n",
       "        [[ 4322,  2800,  1892],\n",
       "         [ 1201,  4450,  1954],\n",
       "         [ 2113,  1964,  3406]]]])"
      ]
     },
     "execution_count": 18,
     "metadata": {},
     "output_type": "execute_result"
    }
   ],
   "source": [
    "np.dot(a,b)\n"
   ]
  },
  {
   "cell_type": "code",
   "execution_count": 19,
   "metadata": {},
   "outputs": [
    {
     "data": {
      "text/plain": [
       "array([[[12071, 11627,  3510],\n",
       "        [ 4447,  3525,   978],\n",
       "        [11277, 10003,  3930]],\n",
       "\n",
       "       [[ 4604,  9801,  5381],\n",
       "        [ 8935, 12352,  9248],\n",
       "        [ 5113, 13517,  7557]],\n",
       "\n",
       "       [[11911, 11773, 13229],\n",
       "        [12693, 13279, 10496],\n",
       "        [ 2113,  1964,  3406]]])"
      ]
     },
     "execution_count": 19,
     "metadata": {},
     "output_type": "execute_result"
    }
   ],
   "source": [
    "np.matmul(a,b)"
   ]
  },
  {
   "cell_type": "code",
   "execution_count": null,
   "metadata": {},
   "outputs": [],
   "source": []
  }
 ],
 "metadata": {
  "kernelspec": {
   "display_name": "Python 3",
   "language": "python",
   "name": "python3"
  },
  "language_info": {
   "codemirror_mode": {
    "name": "ipython",
    "version": 3
   },
   "file_extension": ".py",
   "mimetype": "text/x-python",
   "name": "python",
   "nbconvert_exporter": "python",
   "pygments_lexer": "ipython3",
   "version": "3.10.6"
  },
  "orig_nbformat": 4,
  "vscode": {
   "interpreter": {
    "hash": "916dbcbb3f70747c44a77c7bcd40155683ae19c65e1c03b4aa3499c5328201f1"
   }
  }
 },
 "nbformat": 4,
 "nbformat_minor": 2
}
