{
 "cells": [
  {
   "cell_type": "code",
   "execution_count": 1,
   "metadata": {},
   "outputs": [],
   "source": [
    "import os\n",
    "\n",
    "# Scientific and vector computation for python\n",
    "import numpy as np\n",
    "\n",
    "# Plotting library\n",
    "import matplotlib.pyplot as plt\n",
    "\n",
    "# Optimization module in scipy\n",
    "import scipy.optimize as opt\n",
    "\n",
    "# Module to load MATLAB .mat datafile format (Input and output module of scipy)\n",
    "from scipy.io import loadmat\n",
    "\n",
    "# Python Imaging Library (PIL)\n",
    "from PIL import Image\n",
    "\n",
    "# tells matplotlib to embed plots within the notebook\n",
    "%matplotlib inline\n",
    "from functools import partial"
   ]
  },
  {
   "cell_type": "code",
   "execution_count": 2,
   "metadata": {},
   "outputs": [],
   "source": [
    "Data_Dir = 'DATA'\n",
    "data = loadmat(os.path.join(Data_Dir, 'mnist-digit.mat'))"
   ]
  },
  {
   "attachments": {},
   "cell_type": "markdown",
   "metadata": {},
   "source": [
    "#### Regularized logistic regression\n",
    "\n",
    "Now add regularization to the cost function. For regularized logistic regression, the cost function is defined as\n",
    "\n",
    "$$ J(w) = \\frac{1}{m} \\sum_{i=1}^m \\left[ -y^{(i)} \\log \\left(h_w\\left(x^{(i)} \\right)\\right) - \\left( 1 - y^{(i)} \\right) \\log\\left(1 - h_w \\left(x^{(i)} \\right) \\right) \\right] + \\frac{\\lambda}{2m} \\sum_{j=1}^n w_j^2 $$\n",
    "\n",
    "Note that $w_0$ should not be regularized as it is used as bias term.\n",
    "Correspondingly, the partial derivative of regularized logistic regression cost for $w_j$ is defined as\n",
    "\n",
    "$$\n",
    "\\begin{align*}\n",
    "& \\frac{\\partial J(w)}{\\partial w_0} = \\frac{1}{m} \\sum_{i=1}^m \\left( h_w\\left( x^{(i)} \\right) - y^{(i)} \\right) x_j^{(i)}  & \\text{for } j = 0 \\\\\n",
    "& \\frac{\\partial J(w)}{\\partial w_j} = \\left( \\frac{1}{m} \\sum_{i=1}^m \\left( h_w\\left( x^{(i)} \\right) - y^{(i)} \\right) x_j^{(i)} \\right) + \\frac{\\lambda}{m} w_j & \\text{for } j  \\ge 1\n",
    "\\end{align*}\n",
    "$$\n"
   ]
  },
  {
   "cell_type": "code",
   "execution_count": 3,
   "metadata": {},
   "outputs": [],
   "source": [
    "def sigmoid(z):\n",
    "    \"\"\"\n",
    "    Computes the sigmoid of z\n",
    "    \"\"\"\n",
    "    return 1/(1+np.exp(-z))"
   ]
  },
  {
   "cell_type": "code",
   "execution_count": 4,
   "metadata": {},
   "outputs": [
    {
     "name": "stdout",
     "output_type": "stream",
     "text": [
      "(400,)\n",
      "(5000, 400)\n",
      "(5000,)\n",
      "(5000,)\n"
     ]
    }
   ],
   "source": [
    "X=data[\"X\"]\n",
    "w = np.zeros(X.shape[1])\n",
    "print(w.shape)\n",
    "\n",
    "print(X.shape)\n",
    "y=data[\"y\"]\n",
    "y=y.squeeze()\n",
    "print(y.shape)\n",
    "h = sigmoid(X.dot(w))\n",
    "print(h.shape)"
   ]
  },
  {
   "cell_type": "code",
   "execution_count": 5,
   "metadata": {},
   "outputs": [],
   "source": [
    "y = y.squeeze()\n",
    "y = np.where(y==10,0,y)"
   ]
  },
  {
   "cell_type": "code",
   "execution_count": 6,
   "metadata": {},
   "outputs": [
    {
     "data": {
      "text/plain": [
       "array([0, 1, 2, 3, 4, 5, 6, 7, 8, 9], dtype=uint8)"
      ]
     },
     "execution_count": 6,
     "metadata": {},
     "output_type": "execute_result"
    }
   ],
   "source": [
    "np.unique(y)"
   ]
  },
  {
   "cell_type": "code",
   "execution_count": 7,
   "metadata": {},
   "outputs": [],
   "source": [
    "X_final = np.hstack((np.ones((X.shape[0],1)),X))\n",
    "lambda_ = 0.1"
   ]
  },
  {
   "cell_type": "code",
   "execution_count": 8,
   "metadata": {},
   "outputs": [],
   "source": [
    "def lrCostFunction(w, X, y, lambda_,shape=False):\n",
    "    \n",
    "    m = y.size\n",
    "    \n",
    "    if y.dtype == bool:\n",
    "        y = y.astype(int)\n",
    "\n",
    "    h = sigmoid(np.dot(X,w))\n",
    "    grad = np.zeros(w.shape)\n",
    "    reg_term = (lambda_/(2*m))*np.sum(w[1:]**2)\n",
    "    J = (1/m)*np.sum(-y*np.log(h+1e-10) - (1-y)*np.log(1-h+1e-10)) + reg_term\n",
    "    grad[0] = (1/m)*np.dot((h-y),X[:,0])\n",
    "    grad[1:]=(1/m)*(np.dot((h-y),X[:,1:])) + (lambda_/m) * w[1:]\n",
    "    if shape:\n",
    "        print('shape of grad: ', grad.shape)\n",
    "        print('shape of J: ', J.shape)\n",
    "        print('shape of h: ', h.shape)\n",
    "        print('shape of w: ', w.shape)\n",
    "        print('shape of X: ', X.shape)\n",
    "        print('shape of y: ', y.shape)\n",
    "    \n",
    "    return J, grad"
   ]
  },
  {
   "cell_type": "code",
   "execution_count": 15,
   "metadata": {},
   "outputs": [],
   "source": [
    "def partial_parabola(x, a):\n",
    "    return a*x**2"
   ]
  },
  {
   "cell_type": "code",
   "execution_count": 16,
   "metadata": {},
   "outputs": [],
   "source": [
    "parabola = partial(partial_parabola, a=2)"
   ]
  },
  {
   "cell_type": "code",
   "execution_count": 17,
   "metadata": {},
   "outputs": [
    {
     "data": {
      "text/plain": [
       "8"
      ]
     },
     "execution_count": 17,
     "metadata": {},
     "output_type": "execute_result"
    }
   ],
   "source": [
    "parabola(2)"
   ]
  },
  {
   "cell_type": "code",
   "execution_count": 9,
   "metadata": {},
   "outputs": [],
   "source": [
    "w_final = np.zeros(X_final.shape[1])"
   ]
  },
  {
   "cell_type": "code",
   "execution_count": 18,
   "metadata": {},
   "outputs": [],
   "source": [
    "def callback_partial(W, X, y, history,):\n",
    "    J, _ = lrCostFunction(W, X, y, lambda_)\n",
    "    history.append(J)"
   ]
  },
  {
   "cell_type": "code",
   "execution_count": 14,
   "metadata": {},
   "outputs": [],
   "source": [
    "from functools import partial"
   ]
  },
  {
   "cell_type": "code",
   "execution_count": 19,
   "metadata": {},
   "outputs": [],
   "source": [
    "\n",
    "def oneVsAll(X, y, num_labels, lambda_):\n",
    "        \n",
    "    m, n = X.shape  \n",
    "    \n",
    "    all_w = np.zeros((num_labels, n ))\n",
    "    all_j = []\n",
    "    w = np.zeros(n)\n",
    "\n",
    "    for c in np.arange(num_labels):\n",
    "        J_history = []\n",
    "        print(f\"Currently Training for {c}\", end=\"\\r\")\n",
    "        y_c = np.where(y==c,1,0)        \n",
    "        callbackF = partial(callback_partial, X=X, y=y_c, history=J_history)\n",
    "        res = opt.minimize(lrCostFunction, w, args=(X,y_c,lambda_), method='CG', jac=True,callback=callbackF, options={'maxiter': 100}, tol=1e-6)\n",
    "        all_w[c] = res.x\n",
    "        # print(res)\n",
    "        all_j.append(J_history)\n",
    "        # print('class: ', c, 'cost: ', res.fun)\n",
    "\n",
    "    return all_w, all_j"
   ]
  },
  {
   "cell_type": "code",
   "execution_count": 20,
   "metadata": {},
   "outputs": [
    {
     "name": "stdout",
     "output_type": "stream",
     "text": [
      "Currently Training for 9\r"
     ]
    }
   ],
   "source": [
    "all_w, all_j=oneVsAll(X_final, y, 10, lambda_)"
   ]
  },
  {
   "cell_type": "code",
   "execution_count": 21,
   "metadata": {},
   "outputs": [],
   "source": [
    "def pred(all_w, X):\n",
    "    \n",
    "    pred = np.argmax(sigmoid(X.dot(all_w.T)), axis=1)\n",
    "    assert pred.shape == (X.shape[0],)\n",
    "    return pred"
   ]
  },
  {
   "cell_type": "code",
   "execution_count": 22,
   "metadata": {},
   "outputs": [],
   "source": [
    "y_pred = pred(all_w, X_final)"
   ]
  },
  {
   "cell_type": "code",
   "execution_count": 23,
   "metadata": {},
   "outputs": [
    {
     "data": {
      "text/plain": [
       "array([0, 1, 2, 3, 4, 5, 6, 7, 8, 9])"
      ]
     },
     "execution_count": 23,
     "metadata": {},
     "output_type": "execute_result"
    }
   ],
   "source": [
    "np.unique(y_pred)"
   ]
  },
  {
   "cell_type": "code",
   "execution_count": 25,
   "metadata": {},
   "outputs": [
    {
     "name": "stdout",
     "output_type": "stream",
     "text": [
      "Accuracy: 96.14%\n"
     ]
    }
   ],
   "source": [
    "accuracy = np.mean(y_pred == y)\n",
    "print(f\"Accuracy: {accuracy*100:.2f}%\")"
   ]
  },
  {
   "cell_type": "code",
   "execution_count": 30,
   "metadata": {},
   "outputs": [
    {
     "data": {
      "image/png": "[encoded data removed]",
      "text/plain": [
       "<Figure size 640x480 with 1 Axes>"
      ]
     },
     "metadata": {},
     "output_type": "display_data"
    }
   ],
   "source": [
    "all_j = np.array(all_j)\n",
    "for i in range(10):\n",
    "    plt.plot(all_j[i], label=i)\n",
    "plt.legend()\n",
    "plt.show()"
   ]
  },
  {
   "cell_type": "code",
   "execution_count": null,
   "metadata": {},
   "outputs": [],
   "source": []
  }
 ],
 "metadata": {
  "kernelspec": {
   "display_name": "Python 3",
   "language": "python",
   "name": "python3"
  },
  "language_info": {
   "codemirror_mode": {
    "name": "ipython",
    "version": 3
   },
   "file_extension": ".py",
   "mimetype": "text/x-python",
   "name": "python",
   "nbconvert_exporter": "python",
   "pygments_lexer": "ipython3",
   "version": "3.10.6 (main, Nov 14 2022, 16:10:14) [GCC 11.3.0]"
  },
  "orig_nbformat": 4,
  "vscode": {
   "interpreter": {
    "hash": "31f2aee4e71d21fbe5cf8b01ff0e069b9275f58929596ceb00d14d90e3e16cd6"
   }
  }
 },
 "nbformat": 4,
 "nbformat_minor": 2
}
