{
 "cells": [
  {
   "attachments": {},
   "cell_type": "markdown",
   "metadata": {},
   "source": [
    "# Multivariate Regression"
   ]
  },
  {
   "attachments": {},
   "cell_type": "markdown",
   "metadata": {},
   "source": [
    "Housing Price Prediction Problem. Suppose ‘Mr. X’ is planning to buy a house in Delhi and wants to predict the\n",
    "price of the house given some features like number of bedrooms, number of bathrooms, area of the house, etc.\n",
    "The file ’prob2data.csv’ contains a training set of housing prices in Delhi.\n",
    "1. Read the excel file using pandas and perform data cleaning. Remove 1st column ’id’ which may not be\n",
    "necessary here. Perform mean normalization of features. [1 Mark]\n",
    "2. Write a Python code to perform multivariate regression to predict the house price. Consider all 5 columns\n",
    "(‘bedrooms’,...,‘yr built’) as features. Implement batch gradient descent for optimization of weights. [4 Marks]\n",
    "3. Predict the house price using the model, for 4 bedrooms, 2.5 bathrooms, 2570 sq. feet area, 2 floors, 2005 yr.\n",
    "built, and state the difference between the model prediction and actual value (Rs. 719000). Show in % error.\n",
    "[1 Mark]\n"
   ]
  },
  {
   "cell_type": "code",
   "execution_count": 1,
   "metadata": {},
   "outputs": [],
   "source": [
    "import pandas as pd\n",
    "import numpy as np\n",
    "import matplotlib.pyplot as plt\n",
    "from GD import BGD,SGD\n",
    "import os\n",
    "plt.rcParams['figure.figsize'] = (10.0, 8.0)"
   ]
  },
  {
   "cell_type": "code",
   "execution_count": 2,
   "metadata": {},
   "outputs": [],
   "source": [
    "DATA_DIR = \"Data\"\n",
    "SAVE_DIR = \"Images\""
   ]
  },
  {
   "attachments": {},
   "cell_type": "markdown",
   "metadata": {},
   "source": [
    "we use os library to read the file so that we can read the file safely in windows and linux, without any error."
   ]
  },
  {
   "attachments": {},
   "cell_type": "markdown",
   "metadata": {},
   "source": [
    "## Statement 1.\n",
    "Read the excel file using pandas and perform data cleaning. Remove 1st column ’id’ which may not be\n",
    "necessary here. Perform mean normalization of features"
   ]
  },
  {
   "cell_type": "code",
   "execution_count": 3,
   "metadata": {},
   "outputs": [
    {
     "data": {
      "text/html": [
       "<div>\n",
       "<style scoped>\n",
       "    .dataframe tbody tr th:only-of-type {\n",
       "        vertical-align: middle;\n",
       "    }\n",
       "\n",
       "    .dataframe tbody tr th {\n",
       "        vertical-align: top;\n",
       "    }\n",
       "\n",
       "    .dataframe thead th {\n",
       "        text-align: right;\n",
       "    }\n",
       "</style>\n",
       "<table border=\"1\" class=\"dataframe\">\n",
       "  <thead>\n",
       "    <tr style=\"text-align: right;\">\n",
       "      <th></th>\n",
       "      <th>id</th>\n",
       "      <th>price</th>\n",
       "      <th>bedrooms</th>\n",
       "      <th>bathrooms</th>\n",
       "      <th>sqft_living</th>\n",
       "      <th>floors</th>\n",
       "      <th>yr_built</th>\n",
       "    </tr>\n",
       "  </thead>\n",
       "  <tbody>\n",
       "    <tr>\n",
       "      <th>0</th>\n",
       "      <td>7129300520</td>\n",
       "      <td>221900.0</td>\n",
       "      <td>3</td>\n",
       "      <td>1.00</td>\n",
       "      <td>1180</td>\n",
       "      <td>1.0</td>\n",
       "      <td>1955</td>\n",
       "    </tr>\n",
       "    <tr>\n",
       "      <th>1</th>\n",
       "      <td>6414100192</td>\n",
       "      <td>538000.0</td>\n",
       "      <td>3</td>\n",
       "      <td>2.25</td>\n",
       "      <td>2570</td>\n",
       "      <td>2.0</td>\n",
       "      <td>1951</td>\n",
       "    </tr>\n",
       "  </tbody>\n",
       "</table>\n",
       "</div>"
      ],
      "text/plain": [
       "           id     price  bedrooms  bathrooms  sqft_living  floors  yr_built\n",
       "0  7129300520  221900.0         3       1.00         1180     1.0      1955\n",
       "1  6414100192  538000.0         3       2.25         2570     2.0      1951"
      ]
     },
     "execution_count": 3,
     "metadata": {},
     "output_type": "execute_result"
    }
   ],
   "source": [
    "df = pd.read_csv(os.path.join(DATA_DIR,'prob2data.csv'))\n",
    "df.head(2)"
   ]
  },
  {
   "cell_type": "code",
   "execution_count": 4,
   "metadata": {},
   "outputs": [
    {
     "data": {
      "text/html": [
       "<div>\n",
       "<style scoped>\n",
       "    .dataframe tbody tr th:only-of-type {\n",
       "        vertical-align: middle;\n",
       "    }\n",
       "\n",
       "    .dataframe tbody tr th {\n",
       "        vertical-align: top;\n",
       "    }\n",
       "\n",
       "    .dataframe thead th {\n",
       "        text-align: right;\n",
       "    }\n",
       "</style>\n",
       "<table border=\"1\" class=\"dataframe\">\n",
       "  <thead>\n",
       "    <tr style=\"text-align: right;\">\n",
       "      <th></th>\n",
       "      <th>bedrooms</th>\n",
       "      <th>bathrooms</th>\n",
       "      <th>sqft_living</th>\n",
       "      <th>floors</th>\n",
       "      <th>yr_built</th>\n",
       "    </tr>\n",
       "  </thead>\n",
       "  <tbody>\n",
       "    <tr>\n",
       "      <th>0</th>\n",
       "      <td>3</td>\n",
       "      <td>1.00</td>\n",
       "      <td>1180</td>\n",
       "      <td>1.0</td>\n",
       "      <td>1955</td>\n",
       "    </tr>\n",
       "    <tr>\n",
       "      <th>1</th>\n",
       "      <td>3</td>\n",
       "      <td>2.25</td>\n",
       "      <td>2570</td>\n",
       "      <td>2.0</td>\n",
       "      <td>1951</td>\n",
       "    </tr>\n",
       "    <tr>\n",
       "      <th>2</th>\n",
       "      <td>2</td>\n",
       "      <td>1.00</td>\n",
       "      <td>770</td>\n",
       "      <td>1.0</td>\n",
       "      <td>1933</td>\n",
       "    </tr>\n",
       "    <tr>\n",
       "      <th>3</th>\n",
       "      <td>4</td>\n",
       "      <td>3.00</td>\n",
       "      <td>1960</td>\n",
       "      <td>1.0</td>\n",
       "      <td>1965</td>\n",
       "    </tr>\n",
       "    <tr>\n",
       "      <th>4</th>\n",
       "      <td>3</td>\n",
       "      <td>2.00</td>\n",
       "      <td>1680</td>\n",
       "      <td>1.0</td>\n",
       "      <td>1987</td>\n",
       "    </tr>\n",
       "  </tbody>\n",
       "</table>\n",
       "</div>"
      ],
      "text/plain": [
       "   bedrooms  bathrooms  sqft_living  floors  yr_built\n",
       "0         3       1.00         1180     1.0      1955\n",
       "1         3       2.25         2570     2.0      1951\n",
       "2         2       1.00          770     1.0      1933\n",
       "3         4       3.00         1960     1.0      1965\n",
       "4         3       2.00         1680     1.0      1987"
      ]
     },
     "execution_count": 4,
     "metadata": {},
     "output_type": "execute_result"
    }
   ],
   "source": [
    "X  = df[['bedrooms','bathrooms','sqft_living','floors','yr_built']]\n",
    "y = df['price']\n",
    "X.head()"
   ]
  },
  {
   "attachments": {},
   "cell_type": "markdown",
   "metadata": {},
   "source": [
    "to convert the dataframe into numpy array we use `.values`"
   ]
  },
  {
   "cell_type": "code",
   "execution_count": 5,
   "metadata": {},
   "outputs": [
    {
     "data": {
      "text/plain": [
       "bedrooms          3.370842\n",
       "bathrooms         2.114757\n",
       "sqft_living    2079.899736\n",
       "floors            1.494309\n",
       "yr_built       1971.005136\n",
       "dtype: float64"
      ]
     },
     "execution_count": 5,
     "metadata": {},
     "output_type": "execute_result"
    }
   ],
   "source": [
    "m = np.mean(X,axis=0)\n",
    "m"
   ]
  },
  {
   "cell_type": "code",
   "execution_count": 6,
   "metadata": {},
   "outputs": [],
   "source": [
    "mean = m.values # convert data frame into numpy array"
   ]
  },
  {
   "cell_type": "code",
   "execution_count": 7,
   "metadata": {},
   "outputs": [
    {
     "name": "stdout",
     "output_type": "stream",
     "text": [
      "The mean of the data is: \n",
      " [3.37084162e+00 2.11475732e+00 2.07989974e+03 1.49430898e+00\n",
      " 1.97100514e+03]\n",
      "\n",
      "\n",
      "The maximum value of the data is: \n",
      " [3.300e+01 8.000e+00 1.354e+04 3.500e+00 2.015e+03]\n",
      "\n",
      "\n",
      "The minimum value of the data is:\n",
      "  [0.0e+00 0.0e+00 2.9e+02 1.0e+00 1.9e+03]\n"
     ]
    }
   ],
   "source": [
    "max_x = np.max(X,axis=0).values\n",
    "min_x = np.min(X,axis=0).values\n",
    "mean == np.mean(X,axis=0).values\n",
    "print(\"The mean of the data is: \\n\",mean)\n",
    "print('\\n')\n",
    "print(\"The maximum value of the data is: \\n\",max_x)\n",
    "print('\\n')\n",
    "print(\"The minimum value of the data is:\\n \",min_x)"
   ]
  },
  {
   "attachments": {},
   "cell_type": "markdown",
   "metadata": {},
   "source": [
    "Mean Normalization\n",
    "\n",
    "$$x_{norm} = \\frac{x - \\mu}{max(x)-min(x)}$$\n",
    "\n",
    "<!-- where $\\mu_i$ is the mean of the $i^{th}$ feature and $\\sigma_i$ is the standard deviation of the $i^{th}$ feature. -->"
   ]
  },
  {
   "cell_type": "code",
   "execution_count": 8,
   "metadata": {},
   "outputs": [
    {
     "name": "stdout",
     "output_type": "stream",
     "text": [
      "The Mean Normalization of features is: \n",
      "  [[-0.01123762 -0.13934467 -0.06791696 -0.19772359 -0.13917509]\n",
      " [-0.01123762  0.01690533  0.0369887   0.20227641 -0.1739577 ]\n",
      " [-0.04154066 -0.13934467 -0.09886036 -0.19772359 -0.33047944]\n",
      " ...\n",
      " [-0.04154066 -0.17059467 -0.07999243  0.20227641  0.33039012]\n",
      " [-0.01123762  0.04815533 -0.03621885  0.20227641  0.28691186]\n",
      " [-0.04154066 -0.17059467 -0.07999243  0.20227641  0.32169447]]\n"
     ]
    }
   ],
   "source": [
    "X_norm = (X.values-mean)/(max_x-min_x)\n",
    "y = y.values\n",
    "print(\"The Mean Normalization of features is: \\n \",X_norm)"
   ]
  },
  {
   "attachments": {},
   "cell_type": "markdown",
   "metadata": {},
   "source": [
    "## Statement 2.\n",
    "Write a Python code to perform multivariate regression to predict the house price. Consider all 5 columns\n",
    "(‘bedrooms’,...,‘yr built’) as features. Implement batch gradient descent for optimization of weights."
   ]
  },
  {
   "cell_type": "code",
   "execution_count": 9,
   "metadata": {},
   "outputs": [],
   "source": [
    "bgd = BGD(0.1,1000)"
   ]
  },
  {
   "cell_type": "code",
   "execution_count": 10,
   "metadata": {},
   "outputs": [],
   "source": [
    "bgd.fit(X_norm,y)"
   ]
  },
  {
   "cell_type": "code",
   "execution_count": 11,
   "metadata": {},
   "outputs": [
    {
     "data": {
      "text/plain": [
       "(540182.1587933188,\n",
       " array([ 153488.96952534, 1191829.71931688, 1724041.77350765,\n",
       "         204125.50632092, -378948.11202769]))"
      ]
     },
     "execution_count": 11,
     "metadata": {},
     "output_type": "execute_result"
    }
   ],
   "source": [
    "bgd.b,bgd.w"
   ]
  },
  {
   "cell_type": "code",
   "execution_count": 13,
   "metadata": {},
   "outputs": [
    {
     "data": {
      "image/png": "[encoded data removed]",
      "text/plain": [
       "<Figure size 1000x800 with 1 Axes>"
      ]
     },
     "metadata": {},
     "output_type": "display_data"
    }
   ],
   "source": [
    "plt.plot(bgd.loss)\n",
    "plt.xlabel('Iterations')\n",
    "plt.ylabel('Loss')\n",
    "plt.title('Loss vs Iterations')\n",
    "plt.savefig(os.path.join(SAVE_DIR,'0201.png'))\n"
   ]
  },
  {
   "attachments": {},
   "cell_type": "markdown",
   "metadata": {},
   "source": [
    "## Statement 3.\n",
    "Predict the house price using the model, for 4 bedrooms, 2.5 bathrooms, 2570 sq. feet area, 2 floors, 2005 yr.\n",
    "built, and state the difference between the model prediction and actual value (Rs. 719000). Show in % error."
   ]
  },
  {
   "cell_type": "code",
   "execution_count": 15,
   "metadata": {},
   "outputs": [],
   "source": [
    "x_test = np.array([4,2.5,2570,2,2005])"
   ]
  },
  {
   "cell_type": "code",
   "execution_count": 16,
   "metadata": {},
   "outputs": [],
   "source": [
    "x_test_norm = (x_test-mean)/(max_x-min_x)"
   ]
  },
  {
   "cell_type": "code",
   "execution_count": 17,
   "metadata": {},
   "outputs": [
    {
     "data": {
      "text/plain": [
       "array([0.01906541, 0.04815533, 0.0369887 , 0.20227641, 0.29560751])"
      ]
     },
     "execution_count": 17,
     "metadata": {},
     "output_type": "execute_result"
    }
   ],
   "source": [
    "x_test_norm"
   ]
  },
  {
   "cell_type": "code",
   "execution_count": 18,
   "metadata": {},
   "outputs": [
    {
     "name": "stdout",
     "output_type": "stream",
     "text": [
      "The predicted price of the house is:  593541.374305568\n"
     ]
    }
   ],
   "source": [
    "y_pred=bgd.predict(x_test_norm)\n",
    "print(\"The predicted price of the house is: \",y_pred)"
   ]
  },
  {
   "attachments": {},
   "cell_type": "markdown",
   "metadata": {},
   "source": [
    "$$ \\% error = \\frac{actual - predicted}{actual} * 100 $$  "
   ]
  },
  {
   "cell_type": "code",
   "execution_count": 19,
   "metadata": {},
   "outputs": [
    {
     "name": "stdout",
     "output_type": "stream",
     "text": [
      "The percentage error is: 17.45\n"
     ]
    }
   ],
   "source": [
    "per_error = np.abs(((y_pred-719000)/719000)*100)\n",
    "print(f\"The percentage error is: {per_error:.2f}\")"
   ]
  },
  {
   "cell_type": "code",
   "execution_count": 20,
   "metadata": {},
   "outputs": [
    {
     "name": "stdout",
     "output_type": "stream",
     "text": [
      "The RMSE is: 264806.61\n"
     ]
    }
   ],
   "source": [
    "y_pred = bgd.predict(X_norm)\n",
    "rmse = np.sqrt(np.mean((y_pred-y)**2))\n",
    "print(f\"The RMSE is: {rmse:.2f}\")"
   ]
  }
 ],
 "metadata": {
  "kernelspec": {
   "display_name": "Python 3",
   "language": "python",
   "name": "python3"
  },
  "language_info": {
   "codemirror_mode": {
    "name": "ipython",
    "version": 3
   },
   "file_extension": ".py",
   "mimetype": "text/x-python",
   "name": "python",
   "nbconvert_exporter": "python",
   "pygments_lexer": "ipython3",
   "version": "3.10.6"
  },
  "orig_nbformat": 4,
  "vscode": {
   "interpreter": {
    "hash": "31f2aee4e71d21fbe5cf8b01ff0e069b9275f58929596ceb00d14d90e3e16cd6"
   }
  }
 },
 "nbformat": 4,
 "nbformat_minor": 2
}
