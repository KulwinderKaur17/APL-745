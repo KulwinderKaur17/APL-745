{
 "cells": [
  {
   "attachments": {},
   "cell_type": "markdown",
   "metadata": {},
   "source": [
    "Apply the logistic regression (linear classifier) algorithm discussed in the lab session to predict next-day rain based on the 10 years of daily weather observations from many locations within a country. The dataset contains many factors taken into consideration to specify whether it rained or not on that particular day. The training and testing dataset is provided in the files titled ‘weather_train.csv’ and ‘weather_test.csv’, respectively. Carry out the following tasks as assignment problems:\n",
    "\n",
    "1. Inspect and plot some portion of the training data using pandas. Segregate the training and testing data into two separate variables consisting of ‘feature values’ and corresponding ‘predictions’ (the prediction column is titled ‘RainTomorrow’ in the dataset). To simplify the problem a bit, clean the whole data by carrying out the following sub-tasks:\n",
    "    - Convert the predictions in the binary format by using ‘1’ for ‘YES’ and ‘0’ for ‘NO’.\n",
    "    - Identify and drop the feature columns having datatype ‘object’.\n",
    "    - Identify cells having ‘NaN’ or ‘NA’ values and replace them with mean values of their respective columns.\n",
    "    - Normalize all the feature values by scaling them between 0 and 1. The values in feature matrix $X$ can be normalized as:\n",
    "   $$\n",
    "   X_{norm} = \\frac{X - min(X)}{max(X) - min(X)}\n",
    "   $$\n",
    "Execute the above sub-tasks and display some portion of the data and its head after each data cleaning step.\n",
    "plt.plot(cost, label='Cost')\n",
    "2. Classify the cleaned dataset using binary classification algorithm discussed in the class and calculate the optimized weights and training set accuracy for the model (use Truncated Newton’s Method in SciPy for optimization).\n",
    "3. Plot the cost history ($J$) vs. the number of iterations\n",
    "4. Apply the trained model on the cleaned test dataset to predict the testing accuracy of the model."
   ]
  },
  {
   "cell_type": "code",
   "execution_count": 362,
   "metadata": {},
   "outputs": [],
   "source": [
    "import pandas as pd\n",
    "import numpy as np\n",
    "import matplotlib.pyplot as plt\n",
    "import os\n",
    "import scipy.optimize as opt"
   ]
  },
  {
   "cell_type": "code",
   "execution_count": 363,
   "metadata": {},
   "outputs": [],
   "source": [
    "DIR = 'Data'\n",
    "SAVE_DIR = 'Images'"
   ]
  },
  {
   "cell_type": "code",
   "execution_count": 364,
   "metadata": {},
   "outputs": [
    {
     "name": "stdout",
     "output_type": "stream",
     "text": [
      "The shape of the training data is:  (52062, 23)\n",
      "The shape of the testing data is:  (29093, 23)\n"
     ]
    }
   ],
   "source": [
    "df_train = pd.read_csv(os.path.join(DIR,\"weather_train.csv\"))\n",
    "df_test = pd.read_csv(os.path.join(DIR,\"weather_test.csv\"))\n",
    "print(\"The shape of the training data is: \",df_train.shape)\n",
    "print(\"The shape of the testing data is: \",df_test.shape)"
   ]
  },
  {
   "cell_type": "code",
   "execution_count": 366,
   "metadata": {},
   "outputs": [
    {
     "data": {
      "text/plain": [
       "Date              object\n",
       "Location          object\n",
       "MinTemp          float64\n",
       "MaxTemp          float64\n",
       "Rainfall         float64\n",
       "Evaporation      float64\n",
       "Sunshine         float64\n",
       "WindGustDir       object\n",
       "WindGustSpeed    float64\n",
       "WindDir9am        object\n",
       "WindDir3pm        object\n",
       "WindSpeed9am     float64\n",
       "WindSpeed3pm     float64\n",
       "Humidity9am      float64\n",
       "Humidity3pm      float64\n",
       "Pressure9am      float64\n",
       "Pressure3pm      float64\n",
       "Cloud9am         float64\n",
       "Cloud3pm         float64\n",
       "Temp9am          float64\n",
       "Temp3pm          float64\n",
       "RainToday         object\n",
       "RainTomorrow      object\n",
       "dtype: object"
      ]
     },
     "execution_count": 366,
     "metadata": {},
     "output_type": "execute_result"
    }
   ],
   "source": [
    "df_train.dtypes"
   ]
  },
  {
   "attachments": {},
   "cell_type": "markdown",
   "metadata": {},
   "source": [
    "## Statement 1.\n",
    " Inspect and plot some portion of the training data using pandas. Segregate the training and testing data into two separate variables consisting of ‘feature values’ and corresponding ‘predictions’ (the prediction column is titled ‘RainTomorrow’ in the dataset). To simplify the problem a bit, clean the whole data by carrying out the following sub-tasks:\n",
    "    - Convert the predictions in the binary format by using ‘1’ for ‘YES’ and ‘0’ for ‘NO’.\n",
    "    - Identify and drop the feature columns having datatype ‘object’.\n",
    "    - Identify cells having ‘NaN’ or ‘NA’ values and replace them with mean values of their respective columns.\n",
    "    - Normalize all the feature values by scaling them between 0 and 1. The values in feature matrix $X$ can be normalized as:\n",
    "   $$\n",
    "   X_{norm} = \\frac{X - min(X)}{max(X) - min(X)}\n",
    "   $$"
   ]
  },
  {
   "attachments": {},
   "cell_type": "markdown",
   "metadata": {},
   "source": [
    "- Segregate the training and testing data into two separate variables consisting of ‘feature values’ and corresponding ‘predictions’ (the prediction column is titled ‘RainTomorrow’ in the dataset)."
   ]
  },
  {
   "cell_type": "code",
   "execution_count": 367,
   "metadata": {},
   "outputs": [
    {
     "name": "stdout",
     "output_type": "stream",
     "text": [
      "The shape of the training data is:  (52062, 22)\n",
      "The shape of the testing data is:  (29093, 22)\n"
     ]
    }
   ],
   "source": [
    "X_train = df_train.drop(['RainTomorrow'],axis=1)\n",
    "y_train = df_train['RainTomorrow']\n",
    "X_test = df_test.drop(['RainTomorrow'],axis=1)\n",
    "y_test = df_test['RainTomorrow']\n",
    "print(\"The shape of the training data is: \",X_train.shape)\n",
    "print(\"The shape of the testing data is: \",X_test.shape)"
   ]
  },
  {
   "attachments": {},
   "cell_type": "markdown",
   "metadata": {},
   "source": [
    "- Convert the predictions in the binary format by using ‘1’ for ‘YES’ and ‘0’ for ‘NO’."
   ]
  },
  {
   "cell_type": "code",
   "execution_count": 369,
   "metadata": {},
   "outputs": [
    {
     "data": {
      "text/plain": [
       "(0, 408)"
      ]
     },
     "execution_count": 369,
     "metadata": {},
     "output_type": "execute_result"
    }
   ],
   "source": [
    "y_train.isna().sum(),y_test.isna().sum()"
   ]
  },
  {
   "cell_type": "code",
   "execution_count": 370,
   "metadata": {},
   "outputs": [],
   "source": [
    "y_test.fillna('No',inplace=True)"
   ]
  },
  {
   "cell_type": "code",
   "execution_count": 371,
   "metadata": {},
   "outputs": [
    {
     "data": {
      "text/plain": [
       "0    39519\n",
       "1    12543\n",
       "Name: RainTomorrow, dtype: int64"
      ]
     },
     "execution_count": 371,
     "metadata": {},
     "output_type": "execute_result"
    }
   ],
   "source": [
    "y_train = y_train.replace(['No','Yes'],[0,1])\n",
    "y_test = y_test.replace(['No','Yes'],[0,1])\n",
    "y_train.value_counts()"
   ]
  },
  {
   "cell_type": "code",
   "execution_count": 373,
   "metadata": {},
   "outputs": [
    {
     "data": {
      "text/plain": [
       "0    23305\n",
       "1     5788\n",
       "Name: RainTomorrow, dtype: int64"
      ]
     },
     "execution_count": 373,
     "metadata": {},
     "output_type": "execute_result"
    }
   ],
   "source": [
    "y_test.value_counts()"
   ]
  },
  {
   "attachments": {},
   "cell_type": "markdown",
   "metadata": {},
   "source": [
    "- Identify and drop the feature columns having datatype ‘object’."
   ]
  },
  {
   "cell_type": "code",
   "execution_count": 374,
   "metadata": {},
   "outputs": [
    {
     "name": "stdout",
     "output_type": "stream",
     "text": [
      "The object columns are:  Index(['Date', 'Location', 'WindGustDir', 'WindDir9am', 'WindDir3pm',\n",
      "       'RainToday'],\n",
      "      dtype='object')\n"
     ]
    }
   ],
   "source": [
    "X_train_ob_col= X_train.select_dtypes(include='object').columns\n",
    "print(\"The object columns are: \",X_train_ob_col)"
   ]
  },
  {
   "cell_type": "code",
   "execution_count": 375,
   "metadata": {},
   "outputs": [],
   "source": [
    "X_train = X_train.drop(X_train_ob_col,axis=1)\n",
    "X_test = X_test.drop(X_train_ob_col,axis=1)"
   ]
  },
  {
   "cell_type": "code",
   "execution_count": 376,
   "metadata": {},
   "outputs": [
    {
     "data": {
      "text/plain": [
       "Index(['MinTemp', 'MaxTemp', 'Rainfall', 'Evaporation', 'Sunshine',\n",
       "       'WindGustSpeed', 'WindSpeed9am', 'WindSpeed3pm', 'Humidity9am',\n",
       "       'Humidity3pm', 'Pressure9am', 'Pressure3pm', 'Cloud9am', 'Cloud3pm',\n",
       "       'Temp9am', 'Temp3pm'],\n",
       "      dtype='object')"
      ]
     },
     "execution_count": 376,
     "metadata": {},
     "output_type": "execute_result"
    }
   ],
   "source": [
    "X_train.columns"
   ]
  },
  {
   "attachments": {},
   "cell_type": "markdown",
   "metadata": {},
   "source": [
    "- Identify cells having ‘NaN’ or ‘NA’ values and replace them with mean values of their respective columns."
   ]
  },
  {
   "cell_type": "code",
   "execution_count": 377,
   "metadata": {},
   "outputs": [
    {
     "data": {
      "text/plain": [
       "MinTemp            524\n",
       "MaxTemp            390\n",
       "Rainfall          1296\n",
       "Evaporation      28015\n",
       "Sunshine         33621\n",
       "WindGustSpeed     5522\n",
       "WindSpeed9am      1132\n",
       "WindSpeed3pm      1756\n",
       "Humidity9am        790\n",
       "Humidity3pm       1395\n",
       "Pressure9am       6995\n",
       "Pressure3pm       6945\n",
       "Cloud9am         22448\n",
       "Cloud3pm         22886\n",
       "Temp9am            509\n",
       "Temp3pm           1156\n",
       "dtype: int64"
      ]
     },
     "execution_count": 377,
     "metadata": {},
     "output_type": "execute_result"
    }
   ],
   "source": [
    "X_train.isna().sum()"
   ]
  },
  {
   "attachments": {},
   "cell_type": "markdown",
   "metadata": {},
   "source": [
    "Filling null value with mean value of the column"
   ]
  },
  {
   "cell_type": "code",
   "execution_count": 378,
   "metadata": {},
   "outputs": [],
   "source": [
    "X_train = X_train.fillna(X_train.mean())\n",
    "X_test = X_test.fillna(X_test.mean())"
   ]
  },
  {
   "cell_type": "code",
   "execution_count": 337,
   "metadata": {},
   "outputs": [
    {
     "data": {
      "text/plain": [
       "MinTemp          0\n",
       "MaxTemp          0\n",
       "Rainfall         0\n",
       "Evaporation      0\n",
       "Sunshine         0\n",
       "WindGustSpeed    0\n",
       "WindSpeed9am     0\n",
       "WindSpeed3pm     0\n",
       "Humidity9am      0\n",
       "Humidity3pm      0\n",
       "Pressure9am      0\n",
       "Pressure3pm      0\n",
       "Cloud9am         0\n",
       "Cloud3pm         0\n",
       "Temp9am          0\n",
       "Temp3pm          0\n",
       "dtype: int64"
      ]
     },
     "execution_count": 337,
     "metadata": {},
     "output_type": "execute_result"
    }
   ],
   "source": [
    "X_train.isna().sum()"
   ]
  },
  {
   "attachments": {},
   "cell_type": "markdown",
   "metadata": {},
   "source": [
    "- Normalize all the feature values by scaling them between 0 and 1. The values in feature matrix $X$ can be normalized as:\n",
    "   $$\n",
    "   X_{norm} = \\frac{X - min(X)}{max(X) - min(X)}\n",
    "   $$"
   ]
  },
  {
   "cell_type": "code",
   "execution_count": 379,
   "metadata": {},
   "outputs": [],
   "source": [
    "def mean_normalize(df,cols):\n",
    "    for col in cols:\n",
    "        df[col] = (df[col] - df[col].mean())/(df[col].max()-df[col].min())\n",
    "    return df"
   ]
  },
  {
   "cell_type": "code",
   "execution_count": 380,
   "metadata": {},
   "outputs": [],
   "source": [
    "X_train_final = mean_normalize(X_train,X_train.columns)\n",
    "X_test_final=mean_normalize(X_test,X_train.columns)"
   ]
  },
  {
   "cell_type": "code",
   "execution_count": 381,
   "metadata": {},
   "outputs": [],
   "source": [
    "y_train_final = y_train\n",
    "y_test_final = y_test"
   ]
  },
  {
   "attachments": {},
   "cell_type": "markdown",
   "metadata": {},
   "source": [
    "- Execute the above sub-tasks and display some portion of the data and its head after each data cleaning step."
   ]
  },
  {
   "cell_type": "code",
   "execution_count": 382,
   "metadata": {},
   "outputs": [
    {
     "data": {
      "text/html": [
       "<div>\n",
       "<style scoped>\n",
       "    .dataframe tbody tr th:only-of-type {\n",
       "        vertical-align: middle;\n",
       "    }\n",
       "\n",
       "    .dataframe tbody tr th {\n",
       "        vertical-align: top;\n",
       "    }\n",
       "\n",
       "    .dataframe thead th {\n",
       "        text-align: right;\n",
       "    }\n",
       "</style>\n",
       "<table border=\"1\" class=\"dataframe\">\n",
       "  <thead>\n",
       "    <tr style=\"text-align: right;\">\n",
       "      <th></th>\n",
       "      <th>0</th>\n",
       "      <th>1</th>\n",
       "      <th>2</th>\n",
       "      <th>3</th>\n",
       "      <th>4</th>\n",
       "    </tr>\n",
       "  </thead>\n",
       "  <tbody>\n",
       "    <tr>\n",
       "      <th>MinTemp</th>\n",
       "      <td>2.527735e-02</td>\n",
       "      <td>-1.330340e-01</td>\n",
       "      <td>1.208474e-02</td>\n",
       "      <td>-8.554059e-02</td>\n",
       "      <td>1.334568e-01</td>\n",
       "    </tr>\n",
       "    <tr>\n",
       "      <th>MaxTemp</th>\n",
       "      <td>-1.060367e-02</td>\n",
       "      <td>3.861333e-02</td>\n",
       "      <td>5.203615e-02</td>\n",
       "      <td>1.034903e-01</td>\n",
       "      <td>1.996872e-01</td>\n",
       "    </tr>\n",
       "    <tr>\n",
       "      <th>Rainfall</th>\n",
       "      <td>-5.501055e-03</td>\n",
       "      <td>-7.118306e-03</td>\n",
       "      <td>-7.118306e-03</td>\n",
       "      <td>-7.118306e-03</td>\n",
       "      <td>-4.422888e-03</td>\n",
       "    </tr>\n",
       "    <tr>\n",
       "      <th>Evaporation</th>\n",
       "      <td>6.125368e-18</td>\n",
       "      <td>6.125368e-18</td>\n",
       "      <td>6.125368e-18</td>\n",
       "      <td>6.125368e-18</td>\n",
       "      <td>6.125368e-18</td>\n",
       "    </tr>\n",
       "    <tr>\n",
       "      <th>Sunshine</th>\n",
       "      <td>-6.299138e-17</td>\n",
       "      <td>-6.299138e-17</td>\n",
       "      <td>-6.299138e-17</td>\n",
       "      <td>-6.299138e-17</td>\n",
       "      <td>-6.299138e-17</td>\n",
       "    </tr>\n",
       "    <tr>\n",
       "      <th>WindGustSpeed</th>\n",
       "      <td>4.033023e-02</td>\n",
       "      <td>4.033023e-02</td>\n",
       "      <td>5.595523e-02</td>\n",
       "      <td>-1.159198e-01</td>\n",
       "      <td>1.689273e-02</td>\n",
       "    </tr>\n",
       "    <tr>\n",
       "      <th>WindSpeed9am</th>\n",
       "      <td>5.620610e-02</td>\n",
       "      <td>-6.687082e-02</td>\n",
       "      <td>4.851380e-02</td>\n",
       "      <td>-1.302466e-02</td>\n",
       "      <td>-4.379390e-02</td>\n",
       "    </tr>\n",
       "    <tr>\n",
       "      <th>WindSpeed3pm</th>\n",
       "      <td>7.399343e-02</td>\n",
       "      <td>4.989704e-02</td>\n",
       "      <td>9.808981e-02</td>\n",
       "      <td>-1.067295e-01</td>\n",
       "      <td>2.580065e-02</td>\n",
       "    </tr>\n",
       "    <tr>\n",
       "      <th>Humidity9am</th>\n",
       "      <td>7.814197e-03</td>\n",
       "      <td>-2.705363e-01</td>\n",
       "      <td>-3.323920e-01</td>\n",
       "      <td>-2.602270e-01</td>\n",
       "      <td>1.212163e-01</td>\n",
       "    </tr>\n",
       "    <tr>\n",
       "      <th>Humidity3pm</th>\n",
       "      <td>-3.028706e-01</td>\n",
       "      <td>-2.725676e-01</td>\n",
       "      <td>-2.220625e-01</td>\n",
       "      <td>-3.634767e-01</td>\n",
       "      <td>-1.917595e-01</td>\n",
       "    </tr>\n",
       "    <tr>\n",
       "      <th>Pressure9am</th>\n",
       "      <td>-1.771839e-01</td>\n",
       "      <td>-1.289310e-01</td>\n",
       "      <td>-1.788478e-01</td>\n",
       "      <td>-1.245847e-02</td>\n",
       "      <td>-1.256032e-01</td>\n",
       "    </tr>\n",
       "    <tr>\n",
       "      <th>Pressure3pm</th>\n",
       "      <td>-1.474249e-01</td>\n",
       "      <td>-1.355404e-01</td>\n",
       "      <td>-1.202602e-01</td>\n",
       "      <td>-5.065072e-02</td>\n",
       "      <td>-1.661006e-01</td>\n",
       "    </tr>\n",
       "    <tr>\n",
       "      <th>Cloud9am</th>\n",
       "      <td>3.964266e-01</td>\n",
       "      <td>0.000000e+00</td>\n",
       "      <td>0.000000e+00</td>\n",
       "      <td>0.000000e+00</td>\n",
       "      <td>2.853155e-01</td>\n",
       "    </tr>\n",
       "    <tr>\n",
       "      <th>Cloud3pm</th>\n",
       "      <td>0.000000e+00</td>\n",
       "      <td>0.000000e+00</td>\n",
       "      <td>-3.109019e-01</td>\n",
       "      <td>0.000000e+00</td>\n",
       "      <td>4.390981e-01</td>\n",
       "    </tr>\n",
       "    <tr>\n",
       "      <th>Temp9am</th>\n",
       "      <td>-4.141702e-03</td>\n",
       "      <td>3.211239e-03</td>\n",
       "      <td>9.634849e-02</td>\n",
       "      <td>2.527006e-02</td>\n",
       "      <td>1.791712e-02</td>\n",
       "    </tr>\n",
       "    <tr>\n",
       "      <th>Temp3pm</th>\n",
       "      <td>-2.293841e-03</td>\n",
       "      <td>5.401247e-02</td>\n",
       "      <td>2.923769e-02</td>\n",
       "      <td>1.035620e-01</td>\n",
       "      <td>1.756341e-01</td>\n",
       "    </tr>\n",
       "  </tbody>\n",
       "</table>\n",
       "</div>"
      ],
      "text/plain": [
       "                          0             1             2             3  \\\n",
       "MinTemp        2.527735e-02 -1.330340e-01  1.208474e-02 -8.554059e-02   \n",
       "MaxTemp       -1.060367e-02  3.861333e-02  5.203615e-02  1.034903e-01   \n",
       "Rainfall      -5.501055e-03 -7.118306e-03 -7.118306e-03 -7.118306e-03   \n",
       "Evaporation    6.125368e-18  6.125368e-18  6.125368e-18  6.125368e-18   \n",
       "Sunshine      -6.299138e-17 -6.299138e-17 -6.299138e-17 -6.299138e-17   \n",
       "WindGustSpeed  4.033023e-02  4.033023e-02  5.595523e-02 -1.159198e-01   \n",
       "WindSpeed9am   5.620610e-02 -6.687082e-02  4.851380e-02 -1.302466e-02   \n",
       "WindSpeed3pm   7.399343e-02  4.989704e-02  9.808981e-02 -1.067295e-01   \n",
       "Humidity9am    7.814197e-03 -2.705363e-01 -3.323920e-01 -2.602270e-01   \n",
       "Humidity3pm   -3.028706e-01 -2.725676e-01 -2.220625e-01 -3.634767e-01   \n",
       "Pressure9am   -1.771839e-01 -1.289310e-01 -1.788478e-01 -1.245847e-02   \n",
       "Pressure3pm   -1.474249e-01 -1.355404e-01 -1.202602e-01 -5.065072e-02   \n",
       "Cloud9am       3.964266e-01  0.000000e+00  0.000000e+00  0.000000e+00   \n",
       "Cloud3pm       0.000000e+00  0.000000e+00 -3.109019e-01  0.000000e+00   \n",
       "Temp9am       -4.141702e-03  3.211239e-03  9.634849e-02  2.527006e-02   \n",
       "Temp3pm       -2.293841e-03  5.401247e-02  2.923769e-02  1.035620e-01   \n",
       "\n",
       "                          4  \n",
       "MinTemp        1.334568e-01  \n",
       "MaxTemp        1.996872e-01  \n",
       "Rainfall      -4.422888e-03  \n",
       "Evaporation    6.125368e-18  \n",
       "Sunshine      -6.299138e-17  \n",
       "WindGustSpeed  1.689273e-02  \n",
       "WindSpeed9am  -4.379390e-02  \n",
       "WindSpeed3pm   2.580065e-02  \n",
       "Humidity9am    1.212163e-01  \n",
       "Humidity3pm   -1.917595e-01  \n",
       "Pressure9am   -1.256032e-01  \n",
       "Pressure3pm   -1.661006e-01  \n",
       "Cloud9am       2.853155e-01  \n",
       "Cloud3pm       4.390981e-01  \n",
       "Temp9am        1.791712e-02  \n",
       "Temp3pm        1.756341e-01  "
      ]
     },
     "execution_count": 382,
     "metadata": {},
     "output_type": "execute_result"
    }
   ],
   "source": [
    "X_train_final.head(5).T"
   ]
  },
  {
   "cell_type": "code",
   "execution_count": 383,
   "metadata": {},
   "outputs": [
    {
     "data": {
      "text/html": [
       "<div>\n",
       "<style scoped>\n",
       "    .dataframe tbody tr th:only-of-type {\n",
       "        vertical-align: middle;\n",
       "    }\n",
       "\n",
       "    .dataframe tbody tr th {\n",
       "        vertical-align: top;\n",
       "    }\n",
       "\n",
       "    .dataframe thead th {\n",
       "        text-align: right;\n",
       "    }\n",
       "</style>\n",
       "<table border=\"1\" class=\"dataframe\">\n",
       "  <thead>\n",
       "    <tr style=\"text-align: right;\">\n",
       "      <th></th>\n",
       "      <th>0</th>\n",
       "      <th>1</th>\n",
       "      <th>2</th>\n",
       "      <th>3</th>\n",
       "      <th>4</th>\n",
       "    </tr>\n",
       "  </thead>\n",
       "  <tbody>\n",
       "    <tr>\n",
       "      <th>MinTemp</th>\n",
       "      <td>1.630993e-01</td>\n",
       "      <td>4.982641e-01</td>\n",
       "      <td>0.171341</td>\n",
       "      <td>0.025737</td>\n",
       "      <td>-0.009978</td>\n",
       "    </tr>\n",
       "    <tr>\n",
       "      <th>MaxTemp</th>\n",
       "      <td>4.898495e-01</td>\n",
       "      <td>4.847604e-01</td>\n",
       "      <td>0.128526</td>\n",
       "      <td>0.113259</td>\n",
       "      <td>0.067458</td>\n",
       "    </tr>\n",
       "    <tr>\n",
       "      <th>Rainfall</th>\n",
       "      <td>-5.785526e-03</td>\n",
       "      <td>-5.785526e-03</td>\n",
       "      <td>-0.005786</td>\n",
       "      <td>-0.005786</td>\n",
       "      <td>-0.005786</td>\n",
       "    </tr>\n",
       "    <tr>\n",
       "      <th>Evaporation</th>\n",
       "      <td>0.000000e+00</td>\n",
       "      <td>0.000000e+00</td>\n",
       "      <td>0.000000</td>\n",
       "      <td>0.000000</td>\n",
       "      <td>0.000000</td>\n",
       "    </tr>\n",
       "    <tr>\n",
       "      <th>Sunshine</th>\n",
       "      <td>3.293823e-01</td>\n",
       "      <td>2.660020e-01</td>\n",
       "      <td>0.068819</td>\n",
       "      <td>0.329382</td>\n",
       "      <td>0.280087</td>\n",
       "    </tr>\n",
       "    <tr>\n",
       "      <th>WindGustSpeed</th>\n",
       "      <td>1.093879e-01</td>\n",
       "      <td>1.093879e-01</td>\n",
       "      <td>0.044872</td>\n",
       "      <td>0.028743</td>\n",
       "      <td>0.077130</td>\n",
       "    </tr>\n",
       "    <tr>\n",
       "      <th>WindSpeed9am</th>\n",
       "      <td>1.860518e-01</td>\n",
       "      <td>2.654169e-01</td>\n",
       "      <td>0.122560</td>\n",
       "      <td>0.043195</td>\n",
       "      <td>-0.052043</td>\n",
       "    </tr>\n",
       "    <tr>\n",
       "      <th>WindSpeed3pm</th>\n",
       "      <td>-4.746269e-02</td>\n",
       "      <td>1.906326e-01</td>\n",
       "      <td>0.158887</td>\n",
       "      <td>0.190633</td>\n",
       "      <td>0.206506</td>\n",
       "    </tr>\n",
       "    <tr>\n",
       "      <th>Humidity9am</th>\n",
       "      <td>-3.629221e-01</td>\n",
       "      <td>-5.346393e-01</td>\n",
       "      <td>0.000714</td>\n",
       "      <td>-0.201306</td>\n",
       "      <td>-0.150801</td>\n",
       "    </tr>\n",
       "    <tr>\n",
       "      <th>Humidity3pm</th>\n",
       "      <td>-3.651574e-01</td>\n",
       "      <td>-2.439453e-01</td>\n",
       "      <td>-0.031824</td>\n",
       "      <td>-0.173238</td>\n",
       "      <td>-0.122733</td>\n",
       "    </tr>\n",
       "    <tr>\n",
       "      <th>Pressure9am</th>\n",
       "      <td>-1.200025e-02</td>\n",
       "      <td>-1.423605e-01</td>\n",
       "      <td>-0.087472</td>\n",
       "      <td>-0.065173</td>\n",
       "      <td>-0.130354</td>\n",
       "    </tr>\n",
       "    <tr>\n",
       "      <th>Pressure3pm</th>\n",
       "      <td>-5.745169e-02</td>\n",
       "      <td>-8.785169e-02</td>\n",
       "      <td>-0.060652</td>\n",
       "      <td>-0.060652</td>\n",
       "      <td>-0.078252</td>\n",
       "    </tr>\n",
       "    <tr>\n",
       "      <th>Cloud9am</th>\n",
       "      <td>0.000000e+00</td>\n",
       "      <td>0.000000e+00</td>\n",
       "      <td>0.402412</td>\n",
       "      <td>-0.472588</td>\n",
       "      <td>-0.347588</td>\n",
       "    </tr>\n",
       "    <tr>\n",
       "      <th>Cloud3pm</th>\n",
       "      <td>5.551115e-17</td>\n",
       "      <td>5.551115e-17</td>\n",
       "      <td>-0.241987</td>\n",
       "      <td>-0.491987</td>\n",
       "      <td>-0.116987</td>\n",
       "    </tr>\n",
       "    <tr>\n",
       "      <th>Temp9am</th>\n",
       "      <td>2.958331e-01</td>\n",
       "      <td>5.075978e-01</td>\n",
       "      <td>0.107598</td>\n",
       "      <td>0.102892</td>\n",
       "      <td>0.112304</td>\n",
       "    </tr>\n",
       "    <tr>\n",
       "      <th>Temp3pm</th>\n",
       "      <td>4.754535e-01</td>\n",
       "      <td>3.014339e-01</td>\n",
       "      <td>0.100454</td>\n",
       "      <td>0.134767</td>\n",
       "      <td>0.053885</td>\n",
       "    </tr>\n",
       "  </tbody>\n",
       "</table>\n",
       "</div>"
      ],
      "text/plain": [
       "                          0             1         2         3         4\n",
       "MinTemp        1.630993e-01  4.982641e-01  0.171341  0.025737 -0.009978\n",
       "MaxTemp        4.898495e-01  4.847604e-01  0.128526  0.113259  0.067458\n",
       "Rainfall      -5.785526e-03 -5.785526e-03 -0.005786 -0.005786 -0.005786\n",
       "Evaporation    0.000000e+00  0.000000e+00  0.000000  0.000000  0.000000\n",
       "Sunshine       3.293823e-01  2.660020e-01  0.068819  0.329382  0.280087\n",
       "WindGustSpeed  1.093879e-01  1.093879e-01  0.044872  0.028743  0.077130\n",
       "WindSpeed9am   1.860518e-01  2.654169e-01  0.122560  0.043195 -0.052043\n",
       "WindSpeed3pm  -4.746269e-02  1.906326e-01  0.158887  0.190633  0.206506\n",
       "Humidity9am   -3.629221e-01 -5.346393e-01  0.000714 -0.201306 -0.150801\n",
       "Humidity3pm   -3.651574e-01 -2.439453e-01 -0.031824 -0.173238 -0.122733\n",
       "Pressure9am   -1.200025e-02 -1.423605e-01 -0.087472 -0.065173 -0.130354\n",
       "Pressure3pm   -5.745169e-02 -8.785169e-02 -0.060652 -0.060652 -0.078252\n",
       "Cloud9am       0.000000e+00  0.000000e+00  0.402412 -0.472588 -0.347588\n",
       "Cloud3pm       5.551115e-17  5.551115e-17 -0.241987 -0.491987 -0.116987\n",
       "Temp9am        2.958331e-01  5.075978e-01  0.107598  0.102892  0.112304\n",
       "Temp3pm        4.754535e-01  3.014339e-01  0.100454  0.134767  0.053885"
      ]
     },
     "execution_count": 383,
     "metadata": {},
     "output_type": "execute_result"
    }
   ],
   "source": [
    "X_test_final.head(5).T"
   ]
  },
  {
   "attachments": {},
   "cell_type": "markdown",
   "metadata": {},
   "source": [
    "## Statement 2.\n",
    "Classify the cleaned dataset using binary classification algorithm discussed in the class and calculate the optimized weights and training set accuracy for the model (use Truncated Newton’s Method in SciPy for optimization)."
   ]
  },
  {
   "cell_type": "code",
   "execution_count": 388,
   "metadata": {},
   "outputs": [],
   "source": [
    "def sigmoid(z):\n",
    "    return 1 / (1 + np.exp(-z))"
   ]
  },
  {
   "cell_type": "code",
   "execution_count": 398,
   "metadata": {},
   "outputs": [],
   "source": [
    "def prediction(w,X):\n",
    "    m = X.shape[0]\n",
    "    X = np.c_[np.ones(m), X ]\n",
    "    y_hat = sigmoid(np.dot(X, w))\n",
    "    y_hat = np.where(y_hat > 0.5, 1, 0)\n",
    "    return y_hat"
   ]
  },
  {
   "cell_type": "code",
   "execution_count": 392,
   "metadata": {},
   "outputs": [],
   "source": [
    "def accuracy(y,y_pred):\n",
    "    return np.mean(y == y_pred)"
   ]
  },
  {
   "cell_type": "code",
   "execution_count": 393,
   "metadata": {},
   "outputs": [],
   "source": [
    "def costFunction(w, X, y):\n",
    "    m = len(y)\n",
    "    X = np.c_[np.ones(m), X ]\n",
    "    y_hat = sigmoid(np.dot(X, w))\n",
    "    J = -1/m * (np.log(y_hat).T.dot(y) + np.log(1-y_hat).T.dot(1-y))\n",
    "    return J"
   ]
  },
  {
   "cell_type": "code",
   "execution_count": 396,
   "metadata": {},
   "outputs": [],
   "source": [
    "cost=[]\n",
    "acc =[]\n",
    "def callback(w):\n",
    "    cost.append(costFunction(w, X_train_final.values, y_train_final.values))\n",
    "    y_pred = prediction(w, X_train_final.values)\n",
    "    acc.append(accuracy(y_train_final.values,y_pred))"
   ]
  },
  {
   "cell_type": "code",
   "execution_count": null,
   "metadata": {},
   "outputs": [],
   "source": []
  },
  {
   "cell_type": "code",
   "execution_count": 399,
   "metadata": {},
   "outputs": [],
   "source": [
    "w = np.zeros(X_train_final.shape[1]+1) #initialization (w)\n",
    "args = (X_train_final.values, y_train_final.values) #arguments\n",
    "result = opt.minimize(costFunction, x0=w, args=args, method='TNC', tol=1e-10, callback=callback)"
   ]
  },
  {
   "cell_type": "code",
   "execution_count": 412,
   "metadata": {},
   "outputs": [
    {
     "data": {
      "text/plain": [
       "[0.7590757174138527,\n",
       " 0.7590757174138527,\n",
       " 0.7691022242710615,\n",
       " 0.7726748876339748,\n",
       " 0.8045791556221429,\n",
       " 0.8070761784026738,\n",
       " 0.807402712150897,\n",
       " 0.8085743920709922,\n",
       " 0.8101878529445661,\n",
       " 0.8127232914601821,\n",
       " 0.8132226960162883,\n",
       " 0.8141062579232453,\n",
       " 0.8142215051285007,\n",
       " 0.8145480388767239,\n",
       " 0.8145480388767239,\n",
       " 0.8149321962275748,\n",
       " 0.8154508086512235,\n",
       " 0.8153163535784257,\n",
       " 0.8152395221082556,\n",
       " 0.8158925896047021,\n",
       " 0.8160462525450425,\n",
       " 0.8163151626906381,\n",
       " 0.817121893127425,\n",
       " 0.8181591179747224]"
      ]
     },
     "execution_count": 412,
     "metadata": {},
     "output_type": "execute_result"
    }
   ],
   "source": [
    "acc"
   ]
  },
  {
   "cell_type": "code",
   "execution_count": 401,
   "metadata": {},
   "outputs": [
    {
     "data": {
      "text/plain": [
       "[0.5428211966912712,\n",
       " 0.5428211966912712,\n",
       " 0.5409022374803117,\n",
       " 0.5103331462087789,\n",
       " 0.48432047937203865,\n",
       " 0.4377108635915166,\n",
       " 0.43440607842765466,\n",
       " 0.4331875884759179,\n",
       " 0.4310658844447352,\n",
       " 0.42368660701997873,\n",
       " 0.4223044330520839,\n",
       " 0.42200181906122847,\n",
       " 0.4214650686830703,\n",
       " 0.42126244532670565,\n",
       " 0.42081073618827225,\n",
       " 0.4206435837284143,\n",
       " 0.4205311061220818,\n",
       " 0.4204687577409119,\n",
       " 0.4203821100483185,\n",
       " 0.4201328058476083,\n",
       " 0.41976226252524595,\n",
       " 0.41964389491633264,\n",
       " 0.4192301199143825,\n",
       " 0.41908833331989676,\n",
       " 0.41834169382663516]"
      ]
     },
     "execution_count": 401,
     "metadata": {},
     "output_type": "execute_result"
    }
   ],
   "source": [
    "cost"
   ]
  },
  {
   "attachments": {},
   "cell_type": "markdown",
   "metadata": {},
   "source": [
    "## Statement 3.\n",
    "Plot the cost history ($J$) vs. the number of iterations"
   ]
  },
  {
   "cell_type": "code",
   "execution_count": 409,
   "metadata": {},
   "outputs": [
    {
     "data": {
      "image/png": "[encoded data removed]",
      "text/plain": [
       "<Figure size 640x480 with 1 Axes>"
      ]
     },
     "metadata": {},
     "output_type": "display_data"
    }
   ],
   "source": [
    "plt.plot(acc)\n",
    "plt.ylabel('Accuracy')\n",
    "plt.xlabel('Epochs')\n",
    "plt.title('Accuracy vs. Epochs')\n",
    "plt.grid(True,color='k', linestyle='-', linewidth=0.1)\n",
    "plt.savefig(os.path.join(SAVE_DIR,'0302.png'))\n"
   ]
  },
  {
   "cell_type": "code",
   "execution_count": 410,
   "metadata": {},
   "outputs": [
    {
     "data": {
      "image/png": "[encoded data removed]",
      "text/plain": [
       "<Figure size 640x480 with 1 Axes>"
      ]
     },
     "metadata": {},
     "output_type": "display_data"
    }
   ],
   "source": [
    "plt.plot(cost)\n",
    "plt.ylabel('Cost')\n",
    "plt.xlabel('Epochs')\n",
    "plt.title('Cost vs. Epochs')\n",
    "plt.grid(True,color='k', linestyle='-', linewidth=0.1)\n",
    "plt.savefig(os.path.join(SAVE_DIR,'0301.png'))\n"
   ]
  },
  {
   "attachments": {},
   "cell_type": "markdown",
   "metadata": {},
   "source": [
    "## Statement 4.\n",
    "Apply the trained model on the cleaned test dataset to predict the testing accuracy of the model."
   ]
  },
  {
   "cell_type": "code",
   "execution_count": 404,
   "metadata": {},
   "outputs": [
    {
     "data": {
      "text/plain": [
       "array([-1.53220507,  0.7213525 , -0.02805842,  0.21761059, -0.07538577,\n",
       "       -0.7629129 ,  4.0715458 , -0.38117347, -0.50923013,  0.28953795,\n",
       "        4.26001448, -0.32218647, -1.2533293 ,  0.54327657,  0.78584005,\n",
       "       -0.19053754, -0.50507275])"
      ]
     },
     "execution_count": 404,
     "metadata": {},
     "output_type": "execute_result"
    }
   ],
   "source": [
    "w_optimize = result.x\n",
    "w_optimize"
   ]
  },
  {
   "attachments": {},
   "cell_type": "markdown",
   "metadata": {},
   "source": [
    "Prediction of test Data"
   ]
  },
  {
   "cell_type": "code",
   "execution_count": 405,
   "metadata": {},
   "outputs": [],
   "source": [
    "y_pred=prediction(w_optimize,X_test_final.values)"
   ]
  },
  {
   "cell_type": "code",
   "execution_count": 407,
   "metadata": {},
   "outputs": [
    {
     "data": {
      "text/plain": [
       "(29093,)"
      ]
     },
     "execution_count": 407,
     "metadata": {},
     "output_type": "execute_result"
    }
   ],
   "source": [
    "y_pred.shape"
   ]
  },
  {
   "cell_type": "code",
   "execution_count": 408,
   "metadata": {},
   "outputs": [
    {
     "data": {
      "text/plain": [
       "0.8604819028632317"
      ]
     },
     "execution_count": 408,
     "metadata": {},
     "output_type": "execute_result"
    }
   ],
   "source": [
    "accuracy(y_test_final.values,y_pred)"
   ]
  }
 ],
 "metadata": {
  "kernelspec": {
   "display_name": "Python 3",
   "language": "python",
   "name": "python3"
  },
  "language_info": {
   "codemirror_mode": {
    "name": "ipython",
    "version": 3
   },
   "file_extension": ".py",
   "mimetype": "text/x-python",
   "name": "python",
   "nbconvert_exporter": "python",
   "pygments_lexer": "ipython3",
   "version": "3.10.6"
  },
  "orig_nbformat": 4,
  "vscode": {
   "interpreter": {
    "hash": "916dbcbb3f70747c44a77c7bcd40155683ae19c65e1c03b4aa3499c5328201f1"
   }
  }
 },
 "nbformat": 4,
 "nbformat_minor": 2
}
